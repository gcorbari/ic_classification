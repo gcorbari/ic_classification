{
 "cells": [
  {
   "cell_type": "code",
   "execution_count": 1323,
   "metadata": {},
   "outputs": [],
   "source": [
    "import numpy as np\n",
    "import matplotlib.pyplot as plt\n",
    "from tensorflow.keras.models import Sequential\n",
    "from tensorflow.keras.layers import Dense, Flatten"
   ]
  },
  {
   "cell_type": "code",
   "execution_count": 1324,
   "metadata": {},
   "outputs": [],
   "source": [
    "data = np.loadtxt('data.dat')"
   ]
  },
  {
   "cell_type": "code",
   "execution_count": 1325,
   "metadata": {},
   "outputs": [],
   "source": [
    "# Removing most of the elastic channel events to better sample other Z\n",
    "data = data[:1000000,:]\n",
    "\n",
    "del_rows = []\n",
    "for i in range(len(data)):\n",
    "    if data[i,0] > 15.9 and (i)%8 != 0:\n",
    "        del_rows.append(i)\n",
    "\n",
    "data = np.delete(data, del_rows, 0)"
   ]
  },
  {
   "cell_type": "code",
   "execution_count": 1326,
   "metadata": {},
   "outputs": [
    {
     "name": "stdout",
     "output_type": "stream",
     "text": [
      "150916\n"
     ]
    }
   ],
   "source": [
    "print(len(data))"
   ]
  },
  {
   "cell_type": "code",
   "execution_count": 1327,
   "metadata": {},
   "outputs": [],
   "source": [
    "energy_train = data[:40000, 1:41]\n",
    "label_train = data[:40000,0] -12\n",
    "energy_val = data[40000:45000, 1:41]\n",
    "label_val = data[40000:45000,0] -12\n",
    "energy_test = data[80000:, 1:41]\n",
    "label_test = data[80000:,0] -12"
   ]
  },
  {
   "cell_type": "code",
   "execution_count": 1328,
   "metadata": {},
   "outputs": [],
   "source": [
    "#energy_train.astype(\"float32\")\n",
    "#energy_val.astype(\"float32\")\n",
    "#energy_test.astype(\"float32\")\n"
   ]
  },
  {
   "cell_type": "code",
   "execution_count": 1329,
   "metadata": {},
   "outputs": [],
   "source": [
    "#print(energy_train[0,:])\n",
    "#print(label_val)"
   ]
  },
  {
   "cell_type": "code",
   "execution_count": 1330,
   "metadata": {},
   "outputs": [],
   "source": [
    "energy_train = energy_train / energy_train.max()\n",
    "energy_val = energy_val / energy_val.max()\n",
    "energy_test = energy_test / energy_test.max()"
   ]
  },
  {
   "cell_type": "code",
   "execution_count": 1331,
   "metadata": {},
   "outputs": [],
   "source": [
    "model = Sequential()\n",
    "model.add(Flatten(input_shape=(40,1)))\n",
    "model.add(Dense(40, activation=\"relu\"))\n",
    "model.add(Dense(5, activation=\"softmax\"))"
   ]
  },
  {
   "cell_type": "code",
   "execution_count": 1332,
   "metadata": {},
   "outputs": [
    {
     "data": {
      "text/html": [
       "<pre style=\"white-space:pre;overflow-x:auto;line-height:normal;font-family:Menlo,'DejaVu Sans Mono',consolas,'Courier New',monospace\"><span style=\"font-weight: bold\">Model: \"sequential_85\"</span>\n",
       "</pre>\n"
      ],
      "text/plain": [
       "\u001b[1mModel: \"sequential_85\"\u001b[0m\n"
      ]
     },
     "metadata": {},
     "output_type": "display_data"
    },
    {
     "data": {
      "text/html": [
       "<pre style=\"white-space:pre;overflow-x:auto;line-height:normal;font-family:Menlo,'DejaVu Sans Mono',consolas,'Courier New',monospace\">┏━━━━━━━━━━━━━━━━━━━━━━━━━━━━━━━━━┳━━━━━━━━━━━━━━━━━━━━━━━━┳━━━━━━━━━━━━━━━┓\n",
       "┃<span style=\"font-weight: bold\"> Layer (type)                    </span>┃<span style=\"font-weight: bold\"> Output Shape           </span>┃<span style=\"font-weight: bold\">       Param # </span>┃\n",
       "┡━━━━━━━━━━━━━━━━━━━━━━━━━━━━━━━━━╇━━━━━━━━━━━━━━━━━━━━━━━━╇━━━━━━━━━━━━━━━┩\n",
       "│ flatten_85 (<span style=\"color: #0087ff; text-decoration-color: #0087ff\">Flatten</span>)            │ (<span style=\"color: #00d7ff; text-decoration-color: #00d7ff\">None</span>, <span style=\"color: #00af00; text-decoration-color: #00af00\">40</span>)             │             <span style=\"color: #00af00; text-decoration-color: #00af00\">0</span> │\n",
       "├─────────────────────────────────┼────────────────────────┼───────────────┤\n",
       "│ dense_170 (<span style=\"color: #0087ff; text-decoration-color: #0087ff\">Dense</span>)               │ (<span style=\"color: #00d7ff; text-decoration-color: #00d7ff\">None</span>, <span style=\"color: #00af00; text-decoration-color: #00af00\">40</span>)             │         <span style=\"color: #00af00; text-decoration-color: #00af00\">1,640</span> │\n",
       "├─────────────────────────────────┼────────────────────────┼───────────────┤\n",
       "│ dense_171 (<span style=\"color: #0087ff; text-decoration-color: #0087ff\">Dense</span>)               │ (<span style=\"color: #00d7ff; text-decoration-color: #00d7ff\">None</span>, <span style=\"color: #00af00; text-decoration-color: #00af00\">5</span>)              │           <span style=\"color: #00af00; text-decoration-color: #00af00\">205</span> │\n",
       "└─────────────────────────────────┴────────────────────────┴───────────────┘\n",
       "</pre>\n"
      ],
      "text/plain": [
       "┏━━━━━━━━━━━━━━━━━━━━━━━━━━━━━━━━━┳━━━━━━━━━━━━━━━━━━━━━━━━┳━━━━━━━━━━━━━━━┓\n",
       "┃\u001b[1m \u001b[0m\u001b[1mLayer (type)                   \u001b[0m\u001b[1m \u001b[0m┃\u001b[1m \u001b[0m\u001b[1mOutput Shape          \u001b[0m\u001b[1m \u001b[0m┃\u001b[1m \u001b[0m\u001b[1m      Param #\u001b[0m\u001b[1m \u001b[0m┃\n",
       "┡━━━━━━━━━━━━━━━━━━━━━━━━━━━━━━━━━╇━━━━━━━━━━━━━━━━━━━━━━━━╇━━━━━━━━━━━━━━━┩\n",
       "│ flatten_85 (\u001b[38;5;33mFlatten\u001b[0m)            │ (\u001b[38;5;45mNone\u001b[0m, \u001b[38;5;34m40\u001b[0m)             │             \u001b[38;5;34m0\u001b[0m │\n",
       "├─────────────────────────────────┼────────────────────────┼───────────────┤\n",
       "│ dense_170 (\u001b[38;5;33mDense\u001b[0m)               │ (\u001b[38;5;45mNone\u001b[0m, \u001b[38;5;34m40\u001b[0m)             │         \u001b[38;5;34m1,640\u001b[0m │\n",
       "├─────────────────────────────────┼────────────────────────┼───────────────┤\n",
       "│ dense_171 (\u001b[38;5;33mDense\u001b[0m)               │ (\u001b[38;5;45mNone\u001b[0m, \u001b[38;5;34m5\u001b[0m)              │           \u001b[38;5;34m205\u001b[0m │\n",
       "└─────────────────────────────────┴────────────────────────┴───────────────┘\n"
      ]
     },
     "metadata": {},
     "output_type": "display_data"
    },
    {
     "data": {
      "text/html": [
       "<pre style=\"white-space:pre;overflow-x:auto;line-height:normal;font-family:Menlo,'DejaVu Sans Mono',consolas,'Courier New',monospace\"><span style=\"font-weight: bold\"> Total params: </span><span style=\"color: #00af00; text-decoration-color: #00af00\">1,845</span> (7.21 KB)\n",
       "</pre>\n"
      ],
      "text/plain": [
       "\u001b[1m Total params: \u001b[0m\u001b[38;5;34m1,845\u001b[0m (7.21 KB)\n"
      ]
     },
     "metadata": {},
     "output_type": "display_data"
    },
    {
     "data": {
      "text/html": [
       "<pre style=\"white-space:pre;overflow-x:auto;line-height:normal;font-family:Menlo,'DejaVu Sans Mono',consolas,'Courier New',monospace\"><span style=\"font-weight: bold\"> Trainable params: </span><span style=\"color: #00af00; text-decoration-color: #00af00\">1,845</span> (7.21 KB)\n",
       "</pre>\n"
      ],
      "text/plain": [
       "\u001b[1m Trainable params: \u001b[0m\u001b[38;5;34m1,845\u001b[0m (7.21 KB)\n"
      ]
     },
     "metadata": {},
     "output_type": "display_data"
    },
    {
     "data": {
      "text/html": [
       "<pre style=\"white-space:pre;overflow-x:auto;line-height:normal;font-family:Menlo,'DejaVu Sans Mono',consolas,'Courier New',monospace\"><span style=\"font-weight: bold\"> Non-trainable params: </span><span style=\"color: #00af00; text-decoration-color: #00af00\">0</span> (0.00 B)\n",
       "</pre>\n"
      ],
      "text/plain": [
       "\u001b[1m Non-trainable params: \u001b[0m\u001b[38;5;34m0\u001b[0m (0.00 B)\n"
      ]
     },
     "metadata": {},
     "output_type": "display_data"
    }
   ],
   "source": [
    "model.summary()"
   ]
  },
  {
   "cell_type": "code",
   "execution_count": 1333,
   "metadata": {},
   "outputs": [],
   "source": [
    "model.compile(optimizer='adam', loss=\"sparse_categorical_crossentropy\", metrics=['accuracy'])"
   ]
  },
  {
   "cell_type": "code",
   "execution_count": 1334,
   "metadata": {},
   "outputs": [
    {
     "name": "stdout",
     "output_type": "stream",
     "text": [
      "Epoch 1/200\n",
      "\u001b[1m157/157\u001b[0m \u001b[32m━━━━━━━━━━━━━━━━━━━━\u001b[0m\u001b[37m\u001b[0m \u001b[1m0s\u001b[0m 815us/step - accuracy: 0.6156 - loss: 1.2520 - val_accuracy: 0.7996 - val_loss: 0.6194\n",
      "Epoch 2/200\n",
      "\u001b[1m157/157\u001b[0m \u001b[32m━━━━━━━━━━━━━━━━━━━━\u001b[0m\u001b[37m\u001b[0m \u001b[1m0s\u001b[0m 473us/step - accuracy: 0.7997 - loss: 0.6055 - val_accuracy: 0.7996 - val_loss: 0.5650\n",
      "Epoch 3/200\n",
      "\u001b[1m157/157\u001b[0m \u001b[32m━━━━━━━━━━━━━━━━━━━━\u001b[0m\u001b[37m\u001b[0m \u001b[1m0s\u001b[0m 447us/step - accuracy: 0.7964 - loss: 0.5728 - val_accuracy: 0.7996 - val_loss: 0.5410\n",
      "Epoch 4/200\n",
      "\u001b[1m157/157\u001b[0m \u001b[32m━━━━━━━━━━━━━━━━━━━━\u001b[0m\u001b[37m\u001b[0m \u001b[1m0s\u001b[0m 444us/step - accuracy: 0.8035 - loss: 0.5385 - val_accuracy: 0.8002 - val_loss: 0.5219\n",
      "Epoch 5/200\n",
      "\u001b[1m157/157\u001b[0m \u001b[32m━━━━━━━━━━━━━━━━━━━━\u001b[0m\u001b[37m\u001b[0m \u001b[1m0s\u001b[0m 446us/step - accuracy: 0.8023 - loss: 0.5208 - val_accuracy: 0.8004 - val_loss: 0.5075\n",
      "Epoch 6/200\n",
      "\u001b[1m157/157\u001b[0m \u001b[32m━━━━━━━━━━━━━━━━━━━━\u001b[0m\u001b[37m\u001b[0m \u001b[1m0s\u001b[0m 441us/step - accuracy: 0.7996 - loss: 0.5174 - val_accuracy: 0.8004 - val_loss: 0.4956\n",
      "Epoch 7/200\n",
      "\u001b[1m157/157\u001b[0m \u001b[32m━━━━━━━━━━━━━━━━━━━━\u001b[0m\u001b[37m\u001b[0m \u001b[1m0s\u001b[0m 437us/step - accuracy: 0.7995 - loss: 0.4994 - val_accuracy: 0.8010 - val_loss: 0.4849\n",
      "Epoch 8/200\n",
      "\u001b[1m157/157\u001b[0m \u001b[32m━━━━━━━━━━━━━━━━━━━━\u001b[0m\u001b[37m\u001b[0m \u001b[1m0s\u001b[0m 442us/step - accuracy: 0.7963 - loss: 0.4982 - val_accuracy: 0.8022 - val_loss: 0.4737\n",
      "Epoch 9/200\n",
      "\u001b[1m157/157\u001b[0m \u001b[32m━━━━━━━━━━━━━━━━━━━━\u001b[0m\u001b[37m\u001b[0m \u001b[1m0s\u001b[0m 439us/step - accuracy: 0.8021 - loss: 0.4807 - val_accuracy: 0.8058 - val_loss: 0.4591\n",
      "Epoch 10/200\n",
      "\u001b[1m157/157\u001b[0m \u001b[32m━━━━━━━━━━━━━━━━━━━━\u001b[0m\u001b[37m\u001b[0m \u001b[1m0s\u001b[0m 440us/step - accuracy: 0.8074 - loss: 0.4640 - val_accuracy: 0.8056 - val_loss: 0.4414\n",
      "Epoch 11/200\n",
      "\u001b[1m157/157\u001b[0m \u001b[32m━━━━━━━━━━━━━━━━━━━━\u001b[0m\u001b[37m\u001b[0m \u001b[1m0s\u001b[0m 440us/step - accuracy: 0.8096 - loss: 0.4443 - val_accuracy: 0.8134 - val_loss: 0.4225\n",
      "Epoch 12/200\n",
      "\u001b[1m157/157\u001b[0m \u001b[32m━━━━━━━━━━━━━━━━━━━━\u001b[0m\u001b[37m\u001b[0m \u001b[1m0s\u001b[0m 441us/step - accuracy: 0.8156 - loss: 0.4274 - val_accuracy: 0.8148 - val_loss: 0.4017\n",
      "Epoch 13/200\n",
      "\u001b[1m157/157\u001b[0m \u001b[32m━━━━━━━━━━━━━━━━━━━━\u001b[0m\u001b[37m\u001b[0m \u001b[1m0s\u001b[0m 439us/step - accuracy: 0.8250 - loss: 0.4022 - val_accuracy: 0.8218 - val_loss: 0.3809\n",
      "Epoch 14/200\n",
      "\u001b[1m157/157\u001b[0m \u001b[32m━━━━━━━━━━━━━━━━━━━━\u001b[0m\u001b[37m\u001b[0m \u001b[1m0s\u001b[0m 447us/step - accuracy: 0.8369 - loss: 0.3814 - val_accuracy: 0.8372 - val_loss: 0.3593\n",
      "Epoch 15/200\n",
      "\u001b[1m157/157\u001b[0m \u001b[32m━━━━━━━━━━━━━━━━━━━━\u001b[0m\u001b[37m\u001b[0m \u001b[1m0s\u001b[0m 444us/step - accuracy: 0.8479 - loss: 0.3612 - val_accuracy: 0.8534 - val_loss: 0.3378\n",
      "Epoch 16/200\n",
      "\u001b[1m157/157\u001b[0m \u001b[32m━━━━━━━━━━━━━━━━━━━━\u001b[0m\u001b[37m\u001b[0m \u001b[1m0s\u001b[0m 443us/step - accuracy: 0.8666 - loss: 0.3377 - val_accuracy: 0.8744 - val_loss: 0.3151\n",
      "Epoch 17/200\n",
      "\u001b[1m157/157\u001b[0m \u001b[32m━━━━━━━━━━━━━━━━━━━━\u001b[0m\u001b[37m\u001b[0m \u001b[1m0s\u001b[0m 437us/step - accuracy: 0.8818 - loss: 0.3167 - val_accuracy: 0.8728 - val_loss: 0.3009\n",
      "Epoch 18/200\n",
      "\u001b[1m157/157\u001b[0m \u001b[32m━━━━━━━━━━━━━━━━━━━━\u001b[0m\u001b[37m\u001b[0m \u001b[1m0s\u001b[0m 443us/step - accuracy: 0.9011 - loss: 0.2924 - val_accuracy: 0.8912 - val_loss: 0.2801\n",
      "Epoch 19/200\n",
      "\u001b[1m157/157\u001b[0m \u001b[32m━━━━━━━━━━━━━━━━━━━━\u001b[0m\u001b[37m\u001b[0m \u001b[1m0s\u001b[0m 440us/step - accuracy: 0.9162 - loss: 0.2732 - val_accuracy: 0.9028 - val_loss: 0.2652\n",
      "Epoch 20/200\n",
      "\u001b[1m157/157\u001b[0m \u001b[32m━━━━━━━━━━━━━━━━━━━━\u001b[0m\u001b[37m\u001b[0m \u001b[1m0s\u001b[0m 467us/step - accuracy: 0.9218 - loss: 0.2674 - val_accuracy: 0.8962 - val_loss: 0.2574\n",
      "Epoch 21/200\n",
      "\u001b[1m157/157\u001b[0m \u001b[32m━━━━━━━━━━━━━━━━━━━━\u001b[0m\u001b[37m\u001b[0m \u001b[1m0s\u001b[0m 518us/step - accuracy: 0.9283 - loss: 0.2501 - val_accuracy: 0.9272 - val_loss: 0.2381\n",
      "Epoch 22/200\n",
      "\u001b[1m157/157\u001b[0m \u001b[32m━━━━━━━━━━━━━━━━━━━━\u001b[0m\u001b[37m\u001b[0m \u001b[1m0s\u001b[0m 442us/step - accuracy: 0.9423 - loss: 0.2306 - val_accuracy: 0.9354 - val_loss: 0.2254\n",
      "Epoch 23/200\n",
      "\u001b[1m157/157\u001b[0m \u001b[32m━━━━━━━━━━━━━━━━━━━━\u001b[0m\u001b[37m\u001b[0m \u001b[1m0s\u001b[0m 442us/step - accuracy: 0.9435 - loss: 0.2260 - val_accuracy: 0.9202 - val_loss: 0.2209\n",
      "Epoch 24/200\n",
      "\u001b[1m157/157\u001b[0m \u001b[32m━━━━━━━━━━━━━━━━━━━━\u001b[0m\u001b[37m\u001b[0m \u001b[1m0s\u001b[0m 447us/step - accuracy: 0.9484 - loss: 0.2098 - val_accuracy: 0.9294 - val_loss: 0.2114\n",
      "Epoch 25/200\n",
      "\u001b[1m157/157\u001b[0m \u001b[32m━━━━━━━━━━━━━━━━━━━━\u001b[0m\u001b[37m\u001b[0m \u001b[1m0s\u001b[0m 452us/step - accuracy: 0.9527 - loss: 0.2028 - val_accuracy: 0.9286 - val_loss: 0.2083\n",
      "Epoch 26/200\n",
      "\u001b[1m157/157\u001b[0m \u001b[32m━━━━━━━━━━━━━━━━━━━━\u001b[0m\u001b[37m\u001b[0m \u001b[1m0s\u001b[0m 438us/step - accuracy: 0.9567 - loss: 0.1930 - val_accuracy: 0.9456 - val_loss: 0.1945\n",
      "Epoch 27/200\n",
      "\u001b[1m157/157\u001b[0m \u001b[32m━━━━━━━━━━━━━━━━━━━━\u001b[0m\u001b[37m\u001b[0m \u001b[1m0s\u001b[0m 442us/step - accuracy: 0.9606 - loss: 0.1845 - val_accuracy: 0.9416 - val_loss: 0.1896\n",
      "Epoch 28/200\n",
      "\u001b[1m157/157\u001b[0m \u001b[32m━━━━━━━━━━━━━━━━━━━━\u001b[0m\u001b[37m\u001b[0m \u001b[1m0s\u001b[0m 438us/step - accuracy: 0.9645 - loss: 0.1733 - val_accuracy: 0.9428 - val_loss: 0.1840\n",
      "Epoch 29/200\n",
      "\u001b[1m157/157\u001b[0m \u001b[32m━━━━━━━━━━━━━━━━━━━━\u001b[0m\u001b[37m\u001b[0m \u001b[1m0s\u001b[0m 440us/step - accuracy: 0.9643 - loss: 0.1747 - val_accuracy: 0.9534 - val_loss: 0.1750\n",
      "Epoch 30/200\n",
      "\u001b[1m157/157\u001b[0m \u001b[32m━━━━━━━━━━━━━━━━━━━━\u001b[0m\u001b[37m\u001b[0m \u001b[1m0s\u001b[0m 440us/step - accuracy: 0.9681 - loss: 0.1684 - val_accuracy: 0.9578 - val_loss: 0.1690\n",
      "Epoch 31/200\n",
      "\u001b[1m157/157\u001b[0m \u001b[32m━━━━━━━━━━━━━━━━━━━━\u001b[0m\u001b[37m\u001b[0m \u001b[1m0s\u001b[0m 444us/step - accuracy: 0.9683 - loss: 0.1619 - val_accuracy: 0.9568 - val_loss: 0.1650\n",
      "Epoch 32/200\n",
      "\u001b[1m157/157\u001b[0m \u001b[32m━━━━━━━━━━━━━━━━━━━━\u001b[0m\u001b[37m\u001b[0m \u001b[1m0s\u001b[0m 661us/step - accuracy: 0.9721 - loss: 0.1537 - val_accuracy: 0.9588 - val_loss: 0.1592\n",
      "Epoch 33/200\n",
      "\u001b[1m157/157\u001b[0m \u001b[32m━━━━━━━━━━━━━━━━━━━━\u001b[0m\u001b[37m\u001b[0m \u001b[1m0s\u001b[0m 463us/step - accuracy: 0.9728 - loss: 0.1480 - val_accuracy: 0.9630 - val_loss: 0.1541\n",
      "Epoch 34/200\n",
      "\u001b[1m157/157\u001b[0m \u001b[32m━━━━━━━━━━━━━━━━━━━━\u001b[0m\u001b[37m\u001b[0m \u001b[1m0s\u001b[0m 457us/step - accuracy: 0.9734 - loss: 0.1424 - val_accuracy: 0.9618 - val_loss: 0.1513\n",
      "Epoch 35/200\n",
      "\u001b[1m157/157\u001b[0m \u001b[32m━━━━━━━━━━━━━━━━━━━━\u001b[0m\u001b[37m\u001b[0m \u001b[1m0s\u001b[0m 444us/step - accuracy: 0.9763 - loss: 0.1391 - val_accuracy: 0.9620 - val_loss: 0.1489\n",
      "Epoch 36/200\n",
      "\u001b[1m157/157\u001b[0m \u001b[32m━━━━━━━━━━━━━━━━━━━━\u001b[0m\u001b[37m\u001b[0m \u001b[1m0s\u001b[0m 437us/step - accuracy: 0.9774 - loss: 0.1361 - val_accuracy: 0.9686 - val_loss: 0.1420\n",
      "Epoch 37/200\n",
      "\u001b[1m157/157\u001b[0m \u001b[32m━━━━━━━━━━━━━━━━━━━━\u001b[0m\u001b[37m\u001b[0m \u001b[1m0s\u001b[0m 444us/step - accuracy: 0.9789 - loss: 0.1304 - val_accuracy: 0.9656 - val_loss: 0.1399\n",
      "Epoch 38/200\n",
      "\u001b[1m157/157\u001b[0m \u001b[32m━━━━━━━━━━━━━━━━━━━━\u001b[0m\u001b[37m\u001b[0m \u001b[1m0s\u001b[0m 461us/step - accuracy: 0.9783 - loss: 0.1269 - val_accuracy: 0.9684 - val_loss: 0.1348\n",
      "Epoch 39/200\n",
      "\u001b[1m157/157\u001b[0m \u001b[32m━━━━━━━━━━━━━━━━━━━━\u001b[0m\u001b[37m\u001b[0m \u001b[1m0s\u001b[0m 463us/step - accuracy: 0.9808 - loss: 0.1224 - val_accuracy: 0.9656 - val_loss: 0.1342\n",
      "Epoch 40/200\n",
      "\u001b[1m157/157\u001b[0m \u001b[32m━━━━━━━━━━━━━━━━━━━━\u001b[0m\u001b[37m\u001b[0m \u001b[1m0s\u001b[0m 439us/step - accuracy: 0.9814 - loss: 0.1146 - val_accuracy: 0.9706 - val_loss: 0.1269\n",
      "Epoch 41/200\n",
      "\u001b[1m157/157\u001b[0m \u001b[32m━━━━━━━━━━━━━━━━━━━━\u001b[0m\u001b[37m\u001b[0m \u001b[1m0s\u001b[0m 440us/step - accuracy: 0.9825 - loss: 0.1150 - val_accuracy: 0.9680 - val_loss: 0.1272\n",
      "Epoch 42/200\n",
      "\u001b[1m157/157\u001b[0m \u001b[32m━━━━━━━━━━━━━━━━━━━━\u001b[0m\u001b[37m\u001b[0m \u001b[1m0s\u001b[0m 444us/step - accuracy: 0.9832 - loss: 0.1095 - val_accuracy: 0.9744 - val_loss: 0.1188\n",
      "Epoch 43/200\n",
      "\u001b[1m157/157\u001b[0m \u001b[32m━━━━━━━━━━━━━━━━━━━━\u001b[0m\u001b[37m\u001b[0m \u001b[1m0s\u001b[0m 453us/step - accuracy: 0.9841 - loss: 0.1040 - val_accuracy: 0.9750 - val_loss: 0.1159\n",
      "Epoch 44/200\n",
      "\u001b[1m157/157\u001b[0m \u001b[32m━━━━━━━━━━━━━━━━━━━━\u001b[0m\u001b[37m\u001b[0m \u001b[1m0s\u001b[0m 519us/step - accuracy: 0.9843 - loss: 0.1011 - val_accuracy: 0.9704 - val_loss: 0.1195\n",
      "Epoch 45/200\n",
      "\u001b[1m157/157\u001b[0m \u001b[32m━━━━━━━━━━━━━━━━━━━━\u001b[0m\u001b[37m\u001b[0m \u001b[1m0s\u001b[0m 504us/step - accuracy: 0.9844 - loss: 0.0990 - val_accuracy: 0.9782 - val_loss: 0.1082\n",
      "Epoch 46/200\n",
      "\u001b[1m157/157\u001b[0m \u001b[32m━━━━━━━━━━━━━━━━━━━━\u001b[0m\u001b[37m\u001b[0m \u001b[1m0s\u001b[0m 674us/step - accuracy: 0.9865 - loss: 0.0963 - val_accuracy: 0.9752 - val_loss: 0.1096\n",
      "Epoch 47/200\n",
      "\u001b[1m157/157\u001b[0m \u001b[32m━━━━━━━━━━━━━━━━━━━━\u001b[0m\u001b[37m\u001b[0m \u001b[1m0s\u001b[0m 441us/step - accuracy: 0.9864 - loss: 0.0922 - val_accuracy: 0.9748 - val_loss: 0.1073\n",
      "Epoch 48/200\n",
      "\u001b[1m157/157\u001b[0m \u001b[32m━━━━━━━━━━━━━━━━━━━━\u001b[0m\u001b[37m\u001b[0m \u001b[1m0s\u001b[0m 438us/step - accuracy: 0.9867 - loss: 0.0890 - val_accuracy: 0.9774 - val_loss: 0.1017\n",
      "Epoch 49/200\n",
      "\u001b[1m157/157\u001b[0m \u001b[32m━━━━━━━━━━━━━━━━━━━━\u001b[0m\u001b[37m\u001b[0m \u001b[1m0s\u001b[0m 436us/step - accuracy: 0.9877 - loss: 0.0852 - val_accuracy: 0.9774 - val_loss: 0.1020\n",
      "Epoch 50/200\n",
      "\u001b[1m157/157\u001b[0m \u001b[32m━━━━━━━━━━━━━━━━━━━━\u001b[0m\u001b[37m\u001b[0m \u001b[1m0s\u001b[0m 440us/step - accuracy: 0.9881 - loss: 0.0815 - val_accuracy: 0.9770 - val_loss: 0.0999\n",
      "Epoch 51/200\n",
      "\u001b[1m157/157\u001b[0m \u001b[32m━━━━━━━━━━━━━━━━━━━━\u001b[0m\u001b[37m\u001b[0m \u001b[1m0s\u001b[0m 436us/step - accuracy: 0.9873 - loss: 0.0814 - val_accuracy: 0.9774 - val_loss: 0.0971\n",
      "Epoch 52/200\n",
      "\u001b[1m157/157\u001b[0m \u001b[32m━━━━━━━━━━━━━━━━━━━━\u001b[0m\u001b[37m\u001b[0m \u001b[1m0s\u001b[0m 441us/step - accuracy: 0.9885 - loss: 0.0780 - val_accuracy: 0.9784 - val_loss: 0.0938\n",
      "Epoch 53/200\n",
      "\u001b[1m157/157\u001b[0m \u001b[32m━━━━━━━━━━━━━━━━━━━━\u001b[0m\u001b[37m\u001b[0m \u001b[1m0s\u001b[0m 499us/step - accuracy: 0.9878 - loss: 0.0777 - val_accuracy: 0.9794 - val_loss: 0.0916\n",
      "Epoch 54/200\n",
      "\u001b[1m157/157\u001b[0m \u001b[32m━━━━━━━━━━━━━━━━━━━━\u001b[0m\u001b[37m\u001b[0m \u001b[1m0s\u001b[0m 433us/step - accuracy: 0.9883 - loss: 0.0734 - val_accuracy: 0.9796 - val_loss: 0.0897\n",
      "Epoch 55/200\n",
      "\u001b[1m157/157\u001b[0m \u001b[32m━━━━━━━━━━━━━━━━━━━━\u001b[0m\u001b[37m\u001b[0m \u001b[1m0s\u001b[0m 439us/step - accuracy: 0.9901 - loss: 0.0671 - val_accuracy: 0.9840 - val_loss: 0.0806\n",
      "Epoch 56/200\n",
      "\u001b[1m157/157\u001b[0m \u001b[32m━━━━━━━━━━━━━━━━━━━━\u001b[0m\u001b[37m\u001b[0m \u001b[1m0s\u001b[0m 442us/step - accuracy: 0.9894 - loss: 0.0686 - val_accuracy: 0.9816 - val_loss: 0.0833\n",
      "Epoch 57/200\n",
      "\u001b[1m157/157\u001b[0m \u001b[32m━━━━━━━━━━━━━━━━━━━━\u001b[0m\u001b[37m\u001b[0m \u001b[1m0s\u001b[0m 440us/step - accuracy: 0.9892 - loss: 0.0662 - val_accuracy: 0.9738 - val_loss: 0.0915\n",
      "Epoch 58/200\n",
      "\u001b[1m157/157\u001b[0m \u001b[32m━━━━━━━━━━━━━━━━━━━━\u001b[0m\u001b[37m\u001b[0m \u001b[1m0s\u001b[0m 500us/step - accuracy: 0.9895 - loss: 0.0643 - val_accuracy: 0.9836 - val_loss: 0.0794\n",
      "Epoch 59/200\n",
      "\u001b[1m157/157\u001b[0m \u001b[32m━━━━━━━━━━━━━━━━━━━━\u001b[0m\u001b[37m\u001b[0m \u001b[1m0s\u001b[0m 456us/step - accuracy: 0.9905 - loss: 0.0580 - val_accuracy: 0.9814 - val_loss: 0.0785\n",
      "Epoch 60/200\n",
      "\u001b[1m157/157\u001b[0m \u001b[32m━━━━━━━━━━━━━━━━━━━━\u001b[0m\u001b[37m\u001b[0m \u001b[1m0s\u001b[0m 635us/step - accuracy: 0.9898 - loss: 0.0595 - val_accuracy: 0.9818 - val_loss: 0.0759\n",
      "Epoch 61/200\n",
      "\u001b[1m157/157\u001b[0m \u001b[32m━━━━━━━━━━━━━━━━━━━━\u001b[0m\u001b[37m\u001b[0m \u001b[1m0s\u001b[0m 443us/step - accuracy: 0.9896 - loss: 0.0590 - val_accuracy: 0.9816 - val_loss: 0.0758\n",
      "Epoch 62/200\n",
      "\u001b[1m157/157\u001b[0m \u001b[32m━━━━━━━━━━━━━━━━━━━━\u001b[0m\u001b[37m\u001b[0m \u001b[1m0s\u001b[0m 445us/step - accuracy: 0.9905 - loss: 0.0549 - val_accuracy: 0.9818 - val_loss: 0.0741\n",
      "Epoch 63/200\n",
      "\u001b[1m157/157\u001b[0m \u001b[32m━━━━━━━━━━━━━━━━━━━━\u001b[0m\u001b[37m\u001b[0m \u001b[1m0s\u001b[0m 439us/step - accuracy: 0.9903 - loss: 0.0526 - val_accuracy: 0.9832 - val_loss: 0.0703\n",
      "Epoch 64/200\n",
      "\u001b[1m157/157\u001b[0m \u001b[32m━━━━━━━━━━━━━━━━━━━━\u001b[0m\u001b[37m\u001b[0m \u001b[1m0s\u001b[0m 437us/step - accuracy: 0.9907 - loss: 0.0509 - val_accuracy: 0.9822 - val_loss: 0.0694\n",
      "Epoch 65/200\n",
      "\u001b[1m157/157\u001b[0m \u001b[32m━━━━━━━━━━━━━━━━━━━━\u001b[0m\u001b[37m\u001b[0m \u001b[1m0s\u001b[0m 439us/step - accuracy: 0.9903 - loss: 0.0497 - val_accuracy: 0.9822 - val_loss: 0.0666\n",
      "Epoch 66/200\n",
      "\u001b[1m157/157\u001b[0m \u001b[32m━━━━━━━━━━━━━━━━━━━━\u001b[0m\u001b[37m\u001b[0m \u001b[1m0s\u001b[0m 441us/step - accuracy: 0.9911 - loss: 0.0475 - val_accuracy: 0.9840 - val_loss: 0.0645\n",
      "Epoch 67/200\n",
      "\u001b[1m157/157\u001b[0m \u001b[32m━━━━━━━━━━━━━━━━━━━━\u001b[0m\u001b[37m\u001b[0m \u001b[1m0s\u001b[0m 432us/step - accuracy: 0.9903 - loss: 0.0467 - val_accuracy: 0.9850 - val_loss: 0.0624\n",
      "Epoch 68/200\n",
      "\u001b[1m157/157\u001b[0m \u001b[32m━━━━━━━━━━━━━━━━━━━━\u001b[0m\u001b[37m\u001b[0m \u001b[1m0s\u001b[0m 462us/step - accuracy: 0.9919 - loss: 0.0424 - val_accuracy: 0.9846 - val_loss: 0.0613\n",
      "Epoch 69/200\n",
      "\u001b[1m157/157\u001b[0m \u001b[32m━━━━━━━━━━━━━━━━━━━━\u001b[0m\u001b[37m\u001b[0m \u001b[1m0s\u001b[0m 441us/step - accuracy: 0.9912 - loss: 0.0419 - val_accuracy: 0.9832 - val_loss: 0.0626\n",
      "Epoch 70/200\n",
      "\u001b[1m157/157\u001b[0m \u001b[32m━━━━━━━━━━━━━━━━━━━━\u001b[0m\u001b[37m\u001b[0m \u001b[1m0s\u001b[0m 439us/step - accuracy: 0.9917 - loss: 0.0398 - val_accuracy: 0.9836 - val_loss: 0.0603\n",
      "Epoch 71/200\n",
      "\u001b[1m157/157\u001b[0m \u001b[32m━━━━━━━━━━━━━━━━━━━━\u001b[0m\u001b[37m\u001b[0m \u001b[1m0s\u001b[0m 505us/step - accuracy: 0.9913 - loss: 0.0405 - val_accuracy: 0.9860 - val_loss: 0.0534\n",
      "Epoch 72/200\n",
      "\u001b[1m157/157\u001b[0m \u001b[32m━━━━━━━━━━━━━━━━━━━━\u001b[0m\u001b[37m\u001b[0m \u001b[1m0s\u001b[0m 455us/step - accuracy: 0.9920 - loss: 0.0388 - val_accuracy: 0.9846 - val_loss: 0.0568\n",
      "Epoch 73/200\n",
      "\u001b[1m157/157\u001b[0m \u001b[32m━━━━━━━━━━━━━━━━━━━━\u001b[0m\u001b[37m\u001b[0m \u001b[1m0s\u001b[0m 432us/step - accuracy: 0.9915 - loss: 0.0371 - val_accuracy: 0.9846 - val_loss: 0.0561\n",
      "Epoch 74/200\n",
      "\u001b[1m157/157\u001b[0m \u001b[32m━━━━━━━━━━━━━━━━━━━━\u001b[0m\u001b[37m\u001b[0m \u001b[1m0s\u001b[0m 443us/step - accuracy: 0.9922 - loss: 0.0357 - val_accuracy: 0.9818 - val_loss: 0.0595\n",
      "Epoch 75/200\n",
      "\u001b[1m157/157\u001b[0m \u001b[32m━━━━━━━━━━━━━━━━━━━━\u001b[0m\u001b[37m\u001b[0m \u001b[1m0s\u001b[0m 438us/step - accuracy: 0.9926 - loss: 0.0346 - val_accuracy: 0.9860 - val_loss: 0.0513\n",
      "Epoch 76/200\n",
      "\u001b[1m157/157\u001b[0m \u001b[32m━━━━━━━━━━━━━━━━━━━━\u001b[0m\u001b[37m\u001b[0m \u001b[1m0s\u001b[0m 442us/step - accuracy: 0.9930 - loss: 0.0328 - val_accuracy: 0.9826 - val_loss: 0.0554\n",
      "Epoch 77/200\n",
      "\u001b[1m157/157\u001b[0m \u001b[32m━━━━━━━━━━━━━━━━━━━━\u001b[0m\u001b[37m\u001b[0m \u001b[1m0s\u001b[0m 432us/step - accuracy: 0.9932 - loss: 0.0319 - val_accuracy: 0.9856 - val_loss: 0.0508\n",
      "Epoch 78/200\n",
      "\u001b[1m157/157\u001b[0m \u001b[32m━━━━━━━━━━━━━━━━━━━━\u001b[0m\u001b[37m\u001b[0m \u001b[1m0s\u001b[0m 434us/step - accuracy: 0.9935 - loss: 0.0316 - val_accuracy: 0.9864 - val_loss: 0.0477\n",
      "Epoch 79/200\n",
      "\u001b[1m157/157\u001b[0m \u001b[32m━━━━━━━━━━━━━━━━━━━━\u001b[0m\u001b[37m\u001b[0m \u001b[1m0s\u001b[0m 439us/step - accuracy: 0.9940 - loss: 0.0306 - val_accuracy: 0.9850 - val_loss: 0.0513\n",
      "Epoch 80/200\n",
      "\u001b[1m157/157\u001b[0m \u001b[32m━━━━━━━━━━━━━━━━━━━━\u001b[0m\u001b[37m\u001b[0m \u001b[1m0s\u001b[0m 439us/step - accuracy: 0.9942 - loss: 0.0287 - val_accuracy: 0.9844 - val_loss: 0.0514\n",
      "Epoch 81/200\n",
      "\u001b[1m157/157\u001b[0m \u001b[32m━━━━━━━━━━━━━━━━━━━━\u001b[0m\u001b[37m\u001b[0m \u001b[1m0s\u001b[0m 433us/step - accuracy: 0.9943 - loss: 0.0281 - val_accuracy: 0.9826 - val_loss: 0.0532\n",
      "Epoch 82/200\n",
      "\u001b[1m157/157\u001b[0m \u001b[32m━━━━━━━━━━━━━━━━━━━━\u001b[0m\u001b[37m\u001b[0m \u001b[1m0s\u001b[0m 440us/step - accuracy: 0.9947 - loss: 0.0270 - val_accuracy: 0.9858 - val_loss: 0.0458\n",
      "Epoch 83/200\n",
      "\u001b[1m157/157\u001b[0m \u001b[32m━━━━━━━━━━━━━━━━━━━━\u001b[0m\u001b[37m\u001b[0m \u001b[1m0s\u001b[0m 439us/step - accuracy: 0.9950 - loss: 0.0270 - val_accuracy: 0.9848 - val_loss: 0.0470\n",
      "Epoch 84/200\n",
      "\u001b[1m157/157\u001b[0m \u001b[32m━━━━━━━━━━━━━━━━━━━━\u001b[0m\u001b[37m\u001b[0m \u001b[1m0s\u001b[0m 441us/step - accuracy: 0.9953 - loss: 0.0253 - val_accuracy: 0.9882 - val_loss: 0.0416\n",
      "Epoch 85/200\n",
      "\u001b[1m157/157\u001b[0m \u001b[32m━━━━━━━━━━━━━━━━━━━━\u001b[0m\u001b[37m\u001b[0m \u001b[1m0s\u001b[0m 440us/step - accuracy: 0.9956 - loss: 0.0253 - val_accuracy: 0.9862 - val_loss: 0.0459\n",
      "Epoch 86/200\n",
      "\u001b[1m157/157\u001b[0m \u001b[32m━━━━━━━━━━━━━━━━━━━━\u001b[0m\u001b[37m\u001b[0m \u001b[1m0s\u001b[0m 630us/step - accuracy: 0.9956 - loss: 0.0239 - val_accuracy: 0.9878 - val_loss: 0.0420\n",
      "Epoch 87/200\n",
      "\u001b[1m157/157\u001b[0m \u001b[32m━━━━━━━━━━━━━━━━━━━━\u001b[0m\u001b[37m\u001b[0m \u001b[1m0s\u001b[0m 439us/step - accuracy: 0.9963 - loss: 0.0235 - val_accuracy: 0.9874 - val_loss: 0.0418\n",
      "Epoch 88/200\n",
      "\u001b[1m157/157\u001b[0m \u001b[32m━━━━━━━━━━━━━━━━━━━━\u001b[0m\u001b[37m\u001b[0m \u001b[1m0s\u001b[0m 437us/step - accuracy: 0.9958 - loss: 0.0227 - val_accuracy: 0.9862 - val_loss: 0.0436\n",
      "Epoch 89/200\n",
      "\u001b[1m157/157\u001b[0m \u001b[32m━━━━━━━━━━━━━━━━━━━━\u001b[0m\u001b[37m\u001b[0m \u001b[1m0s\u001b[0m 439us/step - accuracy: 0.9966 - loss: 0.0215 - val_accuracy: 0.9886 - val_loss: 0.0384\n",
      "Epoch 90/200\n",
      "\u001b[1m157/157\u001b[0m \u001b[32m━━━━━━━━━━━━━━━━━━━━\u001b[0m\u001b[37m\u001b[0m \u001b[1m0s\u001b[0m 436us/step - accuracy: 0.9968 - loss: 0.0210 - val_accuracy: 0.9874 - val_loss: 0.0414\n",
      "Epoch 91/200\n",
      "\u001b[1m157/157\u001b[0m \u001b[32m━━━━━━━━━━━━━━━━━━━━\u001b[0m\u001b[37m\u001b[0m \u001b[1m0s\u001b[0m 438us/step - accuracy: 0.9972 - loss: 0.0207 - val_accuracy: 0.9886 - val_loss: 0.0389\n",
      "Epoch 92/200\n",
      "\u001b[1m157/157\u001b[0m \u001b[32m━━━━━━━━━━━━━━━━━━━━\u001b[0m\u001b[37m\u001b[0m \u001b[1m0s\u001b[0m 435us/step - accuracy: 0.9971 - loss: 0.0196 - val_accuracy: 0.9884 - val_loss: 0.0378\n",
      "Epoch 93/200\n",
      "\u001b[1m157/157\u001b[0m \u001b[32m━━━━━━━━━━━━━━━━━━━━\u001b[0m\u001b[37m\u001b[0m \u001b[1m0s\u001b[0m 464us/step - accuracy: 0.9970 - loss: 0.0195 - val_accuracy: 0.9874 - val_loss: 0.0386\n",
      "Epoch 94/200\n",
      "\u001b[1m157/157\u001b[0m \u001b[32m━━━━━━━━━━━━━━━━━━━━\u001b[0m\u001b[37m\u001b[0m \u001b[1m0s\u001b[0m 436us/step - accuracy: 0.9966 - loss: 0.0204 - val_accuracy: 0.9878 - val_loss: 0.0385\n",
      "Epoch 95/200\n",
      "\u001b[1m157/157\u001b[0m \u001b[32m━━━━━━━━━━━━━━━━━━━━\u001b[0m\u001b[37m\u001b[0m \u001b[1m0s\u001b[0m 445us/step - accuracy: 0.9970 - loss: 0.0187 - val_accuracy: 0.9882 - val_loss: 0.0370\n",
      "Epoch 96/200\n",
      "\u001b[1m157/157\u001b[0m \u001b[32m━━━━━━━━━━━━━━━━━━━━\u001b[0m\u001b[37m\u001b[0m \u001b[1m0s\u001b[0m 440us/step - accuracy: 0.9971 - loss: 0.0186 - val_accuracy: 0.9898 - val_loss: 0.0345\n",
      "Epoch 97/200\n",
      "\u001b[1m157/157\u001b[0m \u001b[32m━━━━━━━━━━━━━━━━━━━━\u001b[0m\u001b[37m\u001b[0m \u001b[1m0s\u001b[0m 438us/step - accuracy: 0.9978 - loss: 0.0174 - val_accuracy: 0.9896 - val_loss: 0.0362\n",
      "Epoch 98/200\n",
      "\u001b[1m157/157\u001b[0m \u001b[32m━━━━━━━━━━━━━━━━━━━━\u001b[0m\u001b[37m\u001b[0m \u001b[1m0s\u001b[0m 435us/step - accuracy: 0.9978 - loss: 0.0163 - val_accuracy: 0.9848 - val_loss: 0.0421\n",
      "Epoch 99/200\n",
      "\u001b[1m157/157\u001b[0m \u001b[32m━━━━━━━━━━━━━━━━━━━━\u001b[0m\u001b[37m\u001b[0m \u001b[1m0s\u001b[0m 441us/step - accuracy: 0.9978 - loss: 0.0171 - val_accuracy: 0.9886 - val_loss: 0.0355\n",
      "Epoch 100/200\n",
      "\u001b[1m157/157\u001b[0m \u001b[32m━━━━━━━━━━━━━━━━━━━━\u001b[0m\u001b[37m\u001b[0m \u001b[1m0s\u001b[0m 618us/step - accuracy: 0.9976 - loss: 0.0161 - val_accuracy: 0.9872 - val_loss: 0.0365\n",
      "Epoch 101/200\n",
      "\u001b[1m157/157\u001b[0m \u001b[32m━━━━━━━━━━━━━━━━━━━━\u001b[0m\u001b[37m\u001b[0m \u001b[1m0s\u001b[0m 438us/step - accuracy: 0.9977 - loss: 0.0159 - val_accuracy: 0.9870 - val_loss: 0.0366\n",
      "Epoch 102/200\n",
      "\u001b[1m157/157\u001b[0m \u001b[32m━━━━━━━━━━━━━━━━━━━━\u001b[0m\u001b[37m\u001b[0m \u001b[1m0s\u001b[0m 437us/step - accuracy: 0.9977 - loss: 0.0158 - val_accuracy: 0.9904 - val_loss: 0.0302\n",
      "Epoch 103/200\n",
      "\u001b[1m157/157\u001b[0m \u001b[32m━━━━━━━━━━━━━━━━━━━━\u001b[0m\u001b[37m\u001b[0m \u001b[1m0s\u001b[0m 436us/step - accuracy: 0.9978 - loss: 0.0149 - val_accuracy: 0.9880 - val_loss: 0.0364\n",
      "Epoch 104/200\n",
      "\u001b[1m157/157\u001b[0m \u001b[32m━━━━━━━━━━━━━━━━━━━━\u001b[0m\u001b[37m\u001b[0m \u001b[1m0s\u001b[0m 435us/step - accuracy: 0.9977 - loss: 0.0149 - val_accuracy: 0.9906 - val_loss: 0.0305\n",
      "Epoch 105/200\n",
      "\u001b[1m157/157\u001b[0m \u001b[32m━━━━━━━━━━━━━━━━━━━━\u001b[0m\u001b[37m\u001b[0m \u001b[1m0s\u001b[0m 435us/step - accuracy: 0.9981 - loss: 0.0141 - val_accuracy: 0.9908 - val_loss: 0.0309\n",
      "Epoch 106/200\n",
      "\u001b[1m157/157\u001b[0m \u001b[32m━━━━━━━━━━━━━━━━━━━━\u001b[0m\u001b[37m\u001b[0m \u001b[1m0s\u001b[0m 435us/step - accuracy: 0.9982 - loss: 0.0140 - val_accuracy: 0.9896 - val_loss: 0.0321\n",
      "Epoch 107/200\n",
      "\u001b[1m157/157\u001b[0m \u001b[32m━━━━━━━━━━━━━━━━━━━━\u001b[0m\u001b[37m\u001b[0m \u001b[1m0s\u001b[0m 439us/step - accuracy: 0.9981 - loss: 0.0136 - val_accuracy: 0.9890 - val_loss: 0.0321\n",
      "Epoch 108/200\n",
      "\u001b[1m157/157\u001b[0m \u001b[32m━━━━━━━━━━━━━━━━━━━━\u001b[0m\u001b[37m\u001b[0m \u001b[1m0s\u001b[0m 436us/step - accuracy: 0.9981 - loss: 0.0130 - val_accuracy: 0.9904 - val_loss: 0.0317\n",
      "Epoch 109/200\n",
      "\u001b[1m157/157\u001b[0m \u001b[32m━━━━━━━━━━━━━━━━━━━━\u001b[0m\u001b[37m\u001b[0m \u001b[1m0s\u001b[0m 441us/step - accuracy: 0.9980 - loss: 0.0133 - val_accuracy: 0.9892 - val_loss: 0.0325\n",
      "Epoch 110/200\n",
      "\u001b[1m157/157\u001b[0m \u001b[32m━━━━━━━━━━━━━━━━━━━━\u001b[0m\u001b[37m\u001b[0m \u001b[1m0s\u001b[0m 437us/step - accuracy: 0.9980 - loss: 0.0126 - val_accuracy: 0.9878 - val_loss: 0.0344\n",
      "Epoch 111/200\n",
      "\u001b[1m157/157\u001b[0m \u001b[32m━━━━━━━━━━━━━━━━━━━━\u001b[0m\u001b[37m\u001b[0m \u001b[1m0s\u001b[0m 436us/step - accuracy: 0.9982 - loss: 0.0128 - val_accuracy: 0.9906 - val_loss: 0.0301\n",
      "Epoch 112/200\n",
      "\u001b[1m157/157\u001b[0m \u001b[32m━━━━━━━━━━━━━━━━━━━━\u001b[0m\u001b[37m\u001b[0m \u001b[1m0s\u001b[0m 432us/step - accuracy: 0.9981 - loss: 0.0127 - val_accuracy: 0.9918 - val_loss: 0.0292\n",
      "Epoch 113/200\n",
      "\u001b[1m157/157\u001b[0m \u001b[32m━━━━━━━━━━━━━━━━━━━━\u001b[0m\u001b[37m\u001b[0m \u001b[1m0s\u001b[0m 590us/step - accuracy: 0.9982 - loss: 0.0122 - val_accuracy: 0.9874 - val_loss: 0.0348\n",
      "Epoch 114/200\n",
      "\u001b[1m157/157\u001b[0m \u001b[32m━━━━━━━━━━━━━━━━━━━━\u001b[0m\u001b[37m\u001b[0m \u001b[1m0s\u001b[0m 432us/step - accuracy: 0.9983 - loss: 0.0116 - val_accuracy: 0.9904 - val_loss: 0.0295\n",
      "Epoch 115/200\n",
      "\u001b[1m157/157\u001b[0m \u001b[32m━━━━━━━━━━━━━━━━━━━━\u001b[0m\u001b[37m\u001b[0m \u001b[1m0s\u001b[0m 435us/step - accuracy: 0.9985 - loss: 0.0112 - val_accuracy: 0.9900 - val_loss: 0.0308\n",
      "Epoch 116/200\n",
      "\u001b[1m157/157\u001b[0m \u001b[32m━━━━━━━━━━━━━━━━━━━━\u001b[0m\u001b[37m\u001b[0m \u001b[1m0s\u001b[0m 434us/step - accuracy: 0.9987 - loss: 0.0116 - val_accuracy: 0.9922 - val_loss: 0.0276\n",
      "Epoch 117/200\n",
      "\u001b[1m157/157\u001b[0m \u001b[32m━━━━━━━━━━━━━━━━━━━━\u001b[0m\u001b[37m\u001b[0m \u001b[1m0s\u001b[0m 453us/step - accuracy: 0.9984 - loss: 0.0113 - val_accuracy: 0.9922 - val_loss: 0.0285\n",
      "Epoch 118/200\n",
      "\u001b[1m157/157\u001b[0m \u001b[32m━━━━━━━━━━━━━━━━━━━━\u001b[0m\u001b[37m\u001b[0m \u001b[1m0s\u001b[0m 436us/step - accuracy: 0.9989 - loss: 0.0108 - val_accuracy: 0.9914 - val_loss: 0.0295\n",
      "Epoch 119/200\n",
      "\u001b[1m157/157\u001b[0m \u001b[32m━━━━━━━━━━━━━━━━━━━━\u001b[0m\u001b[37m\u001b[0m \u001b[1m0s\u001b[0m 436us/step - accuracy: 0.9988 - loss: 0.0108 - val_accuracy: 0.9896 - val_loss: 0.0301\n",
      "Epoch 120/200\n",
      "\u001b[1m157/157\u001b[0m \u001b[32m━━━━━━━━━━━━━━━━━━━━\u001b[0m\u001b[37m\u001b[0m \u001b[1m0s\u001b[0m 432us/step - accuracy: 0.9985 - loss: 0.0107 - val_accuracy: 0.9932 - val_loss: 0.0267\n",
      "Epoch 121/200\n",
      "\u001b[1m157/157\u001b[0m \u001b[32m━━━━━━━━━━━━━━━━━━━━\u001b[0m\u001b[37m\u001b[0m \u001b[1m0s\u001b[0m 434us/step - accuracy: 0.9992 - loss: 0.0100 - val_accuracy: 0.9900 - val_loss: 0.0284\n",
      "Epoch 122/200\n",
      "\u001b[1m157/157\u001b[0m \u001b[32m━━━━━━━━━━━━━━━━━━━━\u001b[0m\u001b[37m\u001b[0m \u001b[1m0s\u001b[0m 436us/step - accuracy: 0.9989 - loss: 0.0099 - val_accuracy: 0.9930 - val_loss: 0.0266\n",
      "Epoch 123/200\n",
      "\u001b[1m157/157\u001b[0m \u001b[32m━━━━━━━━━━━━━━━━━━━━\u001b[0m\u001b[37m\u001b[0m \u001b[1m0s\u001b[0m 437us/step - accuracy: 0.9989 - loss: 0.0099 - val_accuracy: 0.9926 - val_loss: 0.0257\n",
      "Epoch 124/200\n",
      "\u001b[1m157/157\u001b[0m \u001b[32m━━━━━━━━━━━━━━━━━━━━\u001b[0m\u001b[37m\u001b[0m \u001b[1m0s\u001b[0m 434us/step - accuracy: 0.9989 - loss: 0.0095 - val_accuracy: 0.9908 - val_loss: 0.0287\n",
      "Epoch 125/200\n",
      "\u001b[1m157/157\u001b[0m \u001b[32m━━━━━━━━━━━━━━━━━━━━\u001b[0m\u001b[37m\u001b[0m \u001b[1m0s\u001b[0m 441us/step - accuracy: 0.9993 - loss: 0.0090 - val_accuracy: 0.9882 - val_loss: 0.0345\n",
      "Epoch 126/200\n",
      "\u001b[1m157/157\u001b[0m \u001b[32m━━━━━━━━━━━━━━━━━━━━\u001b[0m\u001b[37m\u001b[0m \u001b[1m0s\u001b[0m 700us/step - accuracy: 0.9991 - loss: 0.0092 - val_accuracy: 0.9926 - val_loss: 0.0250\n",
      "Epoch 127/200\n",
      "\u001b[1m157/157\u001b[0m \u001b[32m━━━━━━━━━━━━━━━━━━━━\u001b[0m\u001b[37m\u001b[0m \u001b[1m0s\u001b[0m 527us/step - accuracy: 0.9989 - loss: 0.0090 - val_accuracy: 0.9918 - val_loss: 0.0265\n",
      "Epoch 128/200\n",
      "\u001b[1m157/157\u001b[0m \u001b[32m━━━━━━━━━━━━━━━━━━━━\u001b[0m\u001b[37m\u001b[0m \u001b[1m0s\u001b[0m 516us/step - accuracy: 0.9993 - loss: 0.0087 - val_accuracy: 0.9936 - val_loss: 0.0239\n",
      "Epoch 129/200\n",
      "\u001b[1m157/157\u001b[0m \u001b[32m━━━━━━━━━━━━━━━━━━━━\u001b[0m\u001b[37m\u001b[0m \u001b[1m0s\u001b[0m 447us/step - accuracy: 0.9993 - loss: 0.0085 - val_accuracy: 0.9926 - val_loss: 0.0249\n",
      "Epoch 130/200\n",
      "\u001b[1m157/157\u001b[0m \u001b[32m━━━━━━━━━━━━━━━━━━━━\u001b[0m\u001b[37m\u001b[0m \u001b[1m0s\u001b[0m 466us/step - accuracy: 0.9993 - loss: 0.0085 - val_accuracy: 0.9918 - val_loss: 0.0277\n",
      "Epoch 131/200\n",
      "\u001b[1m157/157\u001b[0m \u001b[32m━━━━━━━━━━━━━━━━━━━━\u001b[0m\u001b[37m\u001b[0m \u001b[1m0s\u001b[0m 480us/step - accuracy: 0.9993 - loss: 0.0080 - val_accuracy: 0.9912 - val_loss: 0.0292\n",
      "Epoch 132/200\n",
      "\u001b[1m157/157\u001b[0m \u001b[32m━━━━━━━━━━━━━━━━━━━━\u001b[0m\u001b[37m\u001b[0m \u001b[1m0s\u001b[0m 451us/step - accuracy: 0.9993 - loss: 0.0077 - val_accuracy: 0.9914 - val_loss: 0.0280\n",
      "Epoch 133/200\n",
      "\u001b[1m157/157\u001b[0m \u001b[32m━━━━━━━━━━━━━━━━━━━━\u001b[0m\u001b[37m\u001b[0m \u001b[1m0s\u001b[0m 437us/step - accuracy: 0.9993 - loss: 0.0077 - val_accuracy: 0.9928 - val_loss: 0.0262\n",
      "Epoch 134/200\n",
      "\u001b[1m157/157\u001b[0m \u001b[32m━━━━━━━━━━━━━━━━━━━━\u001b[0m\u001b[37m\u001b[0m \u001b[1m0s\u001b[0m 448us/step - accuracy: 0.9994 - loss: 0.0081 - val_accuracy: 0.9924 - val_loss: 0.0247\n",
      "Epoch 135/200\n",
      "\u001b[1m157/157\u001b[0m \u001b[32m━━━━━━━━━━━━━━━━━━━━\u001b[0m\u001b[37m\u001b[0m \u001b[1m0s\u001b[0m 440us/step - accuracy: 0.9995 - loss: 0.0075 - val_accuracy: 0.9924 - val_loss: 0.0268\n",
      "Epoch 136/200\n",
      "\u001b[1m157/157\u001b[0m \u001b[32m━━━━━━━━━━━━━━━━━━━━\u001b[0m\u001b[37m\u001b[0m \u001b[1m0s\u001b[0m 628us/step - accuracy: 0.9990 - loss: 0.0075 - val_accuracy: 0.9914 - val_loss: 0.0265\n",
      "Epoch 137/200\n",
      "\u001b[1m157/157\u001b[0m \u001b[32m━━━━━━━━━━━━━━━━━━━━\u001b[0m\u001b[37m\u001b[0m \u001b[1m0s\u001b[0m 436us/step - accuracy: 0.9994 - loss: 0.0078 - val_accuracy: 0.9924 - val_loss: 0.0265\n",
      "Epoch 138/200\n",
      "\u001b[1m157/157\u001b[0m \u001b[32m━━━━━━━━━━━━━━━━━━━━\u001b[0m\u001b[37m\u001b[0m \u001b[1m0s\u001b[0m 436us/step - accuracy: 0.9995 - loss: 0.0073 - val_accuracy: 0.9932 - val_loss: 0.0251\n",
      "Epoch 139/200\n",
      "\u001b[1m157/157\u001b[0m \u001b[32m━━━━━━━━━━━━━━━━━━━━\u001b[0m\u001b[37m\u001b[0m \u001b[1m0s\u001b[0m 436us/step - accuracy: 0.9992 - loss: 0.0072 - val_accuracy: 0.9918 - val_loss: 0.0252\n",
      "Epoch 140/200\n",
      "\u001b[1m157/157\u001b[0m \u001b[32m━━━━━━━━━━━━━━━━━━━━\u001b[0m\u001b[37m\u001b[0m \u001b[1m0s\u001b[0m 433us/step - accuracy: 0.9996 - loss: 0.0072 - val_accuracy: 0.9920 - val_loss: 0.0245\n",
      "Epoch 141/200\n",
      "\u001b[1m157/157\u001b[0m \u001b[32m━━━━━━━━━━━━━━━━━━━━\u001b[0m\u001b[37m\u001b[0m \u001b[1m0s\u001b[0m 452us/step - accuracy: 0.9995 - loss: 0.0069 - val_accuracy: 0.9940 - val_loss: 0.0208\n",
      "Epoch 142/200\n",
      "\u001b[1m157/157\u001b[0m \u001b[32m━━━━━━━━━━━━━━━━━━━━\u001b[0m\u001b[37m\u001b[0m \u001b[1m0s\u001b[0m 438us/step - accuracy: 0.9995 - loss: 0.0067 - val_accuracy: 0.9914 - val_loss: 0.0264\n",
      "Epoch 143/200\n",
      "\u001b[1m157/157\u001b[0m \u001b[32m━━━━━━━━━━━━━━━━━━━━\u001b[0m\u001b[37m\u001b[0m \u001b[1m0s\u001b[0m 436us/step - accuracy: 0.9997 - loss: 0.0063 - val_accuracy: 0.9922 - val_loss: 0.0253\n",
      "Epoch 144/200\n",
      "\u001b[1m157/157\u001b[0m \u001b[32m━━━━━━━━━━━━━━━━━━━━\u001b[0m\u001b[37m\u001b[0m \u001b[1m0s\u001b[0m 437us/step - accuracy: 0.9995 - loss: 0.0064 - val_accuracy: 0.9922 - val_loss: 0.0256\n",
      "Epoch 145/200\n",
      "\u001b[1m157/157\u001b[0m \u001b[32m━━━━━━━━━━━━━━━━━━━━\u001b[0m\u001b[37m\u001b[0m \u001b[1m0s\u001b[0m 432us/step - accuracy: 0.9995 - loss: 0.0065 - val_accuracy: 0.9922 - val_loss: 0.0250\n",
      "Epoch 146/200\n",
      "\u001b[1m157/157\u001b[0m \u001b[32m━━━━━━━━━━━━━━━━━━━━\u001b[0m\u001b[37m\u001b[0m \u001b[1m0s\u001b[0m 443us/step - accuracy: 0.9996 - loss: 0.0061 - val_accuracy: 0.9924 - val_loss: 0.0249\n",
      "Epoch 147/200\n",
      "\u001b[1m157/157\u001b[0m \u001b[32m━━━━━━━━━━━━━━━━━━━━\u001b[0m\u001b[37m\u001b[0m \u001b[1m0s\u001b[0m 730us/step - accuracy: 0.9996 - loss: 0.0064 - val_accuracy: 0.9928 - val_loss: 0.0240\n",
      "Epoch 148/200\n",
      "\u001b[1m157/157\u001b[0m \u001b[32m━━━━━━━━━━━━━━━━━━━━\u001b[0m\u001b[37m\u001b[0m \u001b[1m0s\u001b[0m 522us/step - accuracy: 0.9997 - loss: 0.0060 - val_accuracy: 0.9940 - val_loss: 0.0214\n",
      "Epoch 149/200\n",
      "\u001b[1m157/157\u001b[0m \u001b[32m━━━━━━━━━━━━━━━━━━━━\u001b[0m\u001b[37m\u001b[0m \u001b[1m0s\u001b[0m 498us/step - accuracy: 0.9995 - loss: 0.0059 - val_accuracy: 0.9936 - val_loss: 0.0210\n",
      "Epoch 150/200\n",
      "\u001b[1m157/157\u001b[0m \u001b[32m━━━━━━━━━━━━━━━━━━━━\u001b[0m\u001b[37m\u001b[0m \u001b[1m0s\u001b[0m 460us/step - accuracy: 0.9995 - loss: 0.0063 - val_accuracy: 0.9932 - val_loss: 0.0211\n",
      "Epoch 151/200\n",
      "\u001b[1m157/157\u001b[0m \u001b[32m━━━━━━━━━━━━━━━━━━━━\u001b[0m\u001b[37m\u001b[0m \u001b[1m0s\u001b[0m 450us/step - accuracy: 0.9995 - loss: 0.0061 - val_accuracy: 0.9924 - val_loss: 0.0224\n",
      "Epoch 152/200\n",
      "\u001b[1m157/157\u001b[0m \u001b[32m━━━━━━━━━━━━━━━━━━━━\u001b[0m\u001b[37m\u001b[0m \u001b[1m0s\u001b[0m 441us/step - accuracy: 0.9997 - loss: 0.0057 - val_accuracy: 0.9944 - val_loss: 0.0211\n",
      "Epoch 153/200\n",
      "\u001b[1m157/157\u001b[0m \u001b[32m━━━━━━━━━━━━━━━━━━━━\u001b[0m\u001b[37m\u001b[0m \u001b[1m0s\u001b[0m 462us/step - accuracy: 0.9996 - loss: 0.0058 - val_accuracy: 0.9934 - val_loss: 0.0216\n",
      "Epoch 154/200\n",
      "\u001b[1m157/157\u001b[0m \u001b[32m━━━━━━━━━━━━━━━━━━━━\u001b[0m\u001b[37m\u001b[0m \u001b[1m0s\u001b[0m 594us/step - accuracy: 0.9996 - loss: 0.0055 - val_accuracy: 0.9932 - val_loss: 0.0206\n",
      "Epoch 155/200\n",
      "\u001b[1m157/157\u001b[0m \u001b[32m━━━━━━━━━━━━━━━━━━━━\u001b[0m\u001b[37m\u001b[0m \u001b[1m0s\u001b[0m 443us/step - accuracy: 0.9997 - loss: 0.0053 - val_accuracy: 0.9936 - val_loss: 0.0206\n",
      "Epoch 156/200\n",
      "\u001b[1m157/157\u001b[0m \u001b[32m━━━━━━━━━━━━━━━━━━━━\u001b[0m\u001b[37m\u001b[0m \u001b[1m0s\u001b[0m 432us/step - accuracy: 0.9995 - loss: 0.0057 - val_accuracy: 0.9932 - val_loss: 0.0238\n",
      "Epoch 157/200\n",
      "\u001b[1m157/157\u001b[0m \u001b[32m━━━━━━━━━━━━━━━━━━━━\u001b[0m\u001b[37m\u001b[0m \u001b[1m0s\u001b[0m 438us/step - accuracy: 0.9996 - loss: 0.0055 - val_accuracy: 0.9938 - val_loss: 0.0209\n",
      "Epoch 158/200\n",
      "\u001b[1m157/157\u001b[0m \u001b[32m━━━━━━━━━━━━━━━━━━━━\u001b[0m\u001b[37m\u001b[0m \u001b[1m0s\u001b[0m 436us/step - accuracy: 0.9997 - loss: 0.0051 - val_accuracy: 0.9904 - val_loss: 0.0295\n",
      "Epoch 159/200\n",
      "\u001b[1m157/157\u001b[0m \u001b[32m━━━━━━━━━━━━━━━━━━━━\u001b[0m\u001b[37m\u001b[0m \u001b[1m0s\u001b[0m 438us/step - accuracy: 0.9996 - loss: 0.0054 - val_accuracy: 0.9922 - val_loss: 0.0240\n",
      "Epoch 160/200\n",
      "\u001b[1m157/157\u001b[0m \u001b[32m━━━━━━━━━━━━━━━━━━━━\u001b[0m\u001b[37m\u001b[0m \u001b[1m0s\u001b[0m 439us/step - accuracy: 0.9995 - loss: 0.0055 - val_accuracy: 0.9916 - val_loss: 0.0246\n",
      "Epoch 161/200\n",
      "\u001b[1m157/157\u001b[0m \u001b[32m━━━━━━━━━━━━━━━━━━━━\u001b[0m\u001b[37m\u001b[0m \u001b[1m0s\u001b[0m 441us/step - accuracy: 0.9996 - loss: 0.0051 - val_accuracy: 0.9892 - val_loss: 0.0309\n",
      "Epoch 162/200\n",
      "\u001b[1m157/157\u001b[0m \u001b[32m━━━━━━━━━━━━━━━━━━━━\u001b[0m\u001b[37m\u001b[0m \u001b[1m0s\u001b[0m 456us/step - accuracy: 0.9997 - loss: 0.0053 - val_accuracy: 0.9924 - val_loss: 0.0235\n",
      "Epoch 163/200\n",
      "\u001b[1m157/157\u001b[0m \u001b[32m━━━━━━━━━━━━━━━━━━━━\u001b[0m\u001b[37m\u001b[0m \u001b[1m0s\u001b[0m 477us/step - accuracy: 0.9996 - loss: 0.0049 - val_accuracy: 0.9920 - val_loss: 0.0264\n",
      "Epoch 164/200\n",
      "\u001b[1m157/157\u001b[0m \u001b[32m━━━━━━━━━━━━━━━━━━━━\u001b[0m\u001b[37m\u001b[0m \u001b[1m0s\u001b[0m 472us/step - accuracy: 0.9997 - loss: 0.0049 - val_accuracy: 0.9904 - val_loss: 0.0264\n",
      "Epoch 165/200\n",
      "\u001b[1m157/157\u001b[0m \u001b[32m━━━━━━━━━━━━━━━━━━━━\u001b[0m\u001b[37m\u001b[0m \u001b[1m0s\u001b[0m 759us/step - accuracy: 0.9995 - loss: 0.0053 - val_accuracy: 0.9918 - val_loss: 0.0243\n",
      "Epoch 166/200\n",
      "\u001b[1m157/157\u001b[0m \u001b[32m━━━━━━━━━━━━━━━━━━━━\u001b[0m\u001b[37m\u001b[0m \u001b[1m0s\u001b[0m 485us/step - accuracy: 0.9998 - loss: 0.0046 - val_accuracy: 0.9920 - val_loss: 0.0244\n",
      "Epoch 167/200\n",
      "\u001b[1m157/157\u001b[0m \u001b[32m━━━━━━━━━━━━━━━━━━━━\u001b[0m\u001b[37m\u001b[0m \u001b[1m0s\u001b[0m 587us/step - accuracy: 0.9997 - loss: 0.0045 - val_accuracy: 0.9918 - val_loss: 0.0260\n",
      "Epoch 168/200\n",
      "\u001b[1m157/157\u001b[0m \u001b[32m━━━━━━━━━━━━━━━━━━━━\u001b[0m\u001b[37m\u001b[0m \u001b[1m0s\u001b[0m 494us/step - accuracy: 0.9998 - loss: 0.0047 - val_accuracy: 0.9936 - val_loss: 0.0193\n",
      "Epoch 169/200\n",
      "\u001b[1m157/157\u001b[0m \u001b[32m━━━━━━━━━━━━━━━━━━━━\u001b[0m\u001b[37m\u001b[0m \u001b[1m0s\u001b[0m 472us/step - accuracy: 0.9997 - loss: 0.0047 - val_accuracy: 0.9934 - val_loss: 0.0224\n",
      "Epoch 170/200\n",
      "\u001b[1m157/157\u001b[0m \u001b[32m━━━━━━━━━━━━━━━━━━━━\u001b[0m\u001b[37m\u001b[0m \u001b[1m0s\u001b[0m 440us/step - accuracy: 0.9997 - loss: 0.0044 - val_accuracy: 0.9920 - val_loss: 0.0235\n",
      "Epoch 171/200\n",
      "\u001b[1m157/157\u001b[0m \u001b[32m━━━━━━━━━━━━━━━━━━━━\u001b[0m\u001b[37m\u001b[0m \u001b[1m0s\u001b[0m 444us/step - accuracy: 0.9996 - loss: 0.0046 - val_accuracy: 0.9932 - val_loss: 0.0219\n",
      "Epoch 172/200\n",
      "\u001b[1m157/157\u001b[0m \u001b[32m━━━━━━━━━━━━━━━━━━━━\u001b[0m\u001b[37m\u001b[0m \u001b[1m0s\u001b[0m 437us/step - accuracy: 0.9997 - loss: 0.0044 - val_accuracy: 0.9952 - val_loss: 0.0179\n",
      "Epoch 173/200\n",
      "\u001b[1m157/157\u001b[0m \u001b[32m━━━━━━━━━━━━━━━━━━━━\u001b[0m\u001b[37m\u001b[0m \u001b[1m0s\u001b[0m 464us/step - accuracy: 0.9997 - loss: 0.0043 - val_accuracy: 0.9932 - val_loss: 0.0228\n",
      "Epoch 174/200\n",
      "\u001b[1m157/157\u001b[0m \u001b[32m━━━━━━━━━━━━━━━━━━━━\u001b[0m\u001b[37m\u001b[0m \u001b[1m0s\u001b[0m 605us/step - accuracy: 0.9997 - loss: 0.0044 - val_accuracy: 0.9938 - val_loss: 0.0211\n",
      "Epoch 175/200\n",
      "\u001b[1m157/157\u001b[0m \u001b[32m━━━━━━━━━━━━━━━━━━━━\u001b[0m\u001b[37m\u001b[0m \u001b[1m0s\u001b[0m 510us/step - accuracy: 0.9997 - loss: 0.0041 - val_accuracy: 0.9938 - val_loss: 0.0205\n",
      "Epoch 176/200\n",
      "\u001b[1m157/157\u001b[0m \u001b[32m━━━━━━━━━━━━━━━━━━━━\u001b[0m\u001b[37m\u001b[0m \u001b[1m0s\u001b[0m 476us/step - accuracy: 0.9997 - loss: 0.0041 - val_accuracy: 0.9936 - val_loss: 0.0210\n",
      "Epoch 177/200\n",
      "\u001b[1m157/157\u001b[0m \u001b[32m━━━━━━━━━━━━━━━━━━━━\u001b[0m\u001b[37m\u001b[0m \u001b[1m0s\u001b[0m 488us/step - accuracy: 0.9997 - loss: 0.0043 - val_accuracy: 0.9918 - val_loss: 0.0233\n",
      "Epoch 178/200\n",
      "\u001b[1m157/157\u001b[0m \u001b[32m━━━━━━━━━━━━━━━━━━━━\u001b[0m\u001b[37m\u001b[0m \u001b[1m0s\u001b[0m 497us/step - accuracy: 0.9997 - loss: 0.0043 - val_accuracy: 0.9920 - val_loss: 0.0234\n",
      "Epoch 179/200\n",
      "\u001b[1m157/157\u001b[0m \u001b[32m━━━━━━━━━━━━━━━━━━━━\u001b[0m\u001b[37m\u001b[0m \u001b[1m0s\u001b[0m 466us/step - accuracy: 0.9999 - loss: 0.0038 - val_accuracy: 0.9940 - val_loss: 0.0198\n",
      "Epoch 180/200\n",
      "\u001b[1m157/157\u001b[0m \u001b[32m━━━━━━━━━━━━━━━━━━━━\u001b[0m\u001b[37m\u001b[0m \u001b[1m0s\u001b[0m 442us/step - accuracy: 0.9996 - loss: 0.0042 - val_accuracy: 0.9896 - val_loss: 0.0282\n",
      "Epoch 181/200\n",
      "\u001b[1m157/157\u001b[0m \u001b[32m━━━━━━━━━━━━━━━━━━━━\u001b[0m\u001b[37m\u001b[0m \u001b[1m0s\u001b[0m 596us/step - accuracy: 0.9999 - loss: 0.0035 - val_accuracy: 0.9902 - val_loss: 0.0267\n",
      "Epoch 182/200\n",
      "\u001b[1m157/157\u001b[0m \u001b[32m━━━━━━━━━━━━━━━━━━━━\u001b[0m\u001b[37m\u001b[0m \u001b[1m0s\u001b[0m 436us/step - accuracy: 0.9999 - loss: 0.0036 - val_accuracy: 0.9910 - val_loss: 0.0241\n",
      "Epoch 183/200\n",
      "\u001b[1m157/157\u001b[0m \u001b[32m━━━━━━━━━━━━━━━━━━━━\u001b[0m\u001b[37m\u001b[0m \u001b[1m0s\u001b[0m 438us/step - accuracy: 0.9997 - loss: 0.0036 - val_accuracy: 0.9928 - val_loss: 0.0235\n",
      "Epoch 184/200\n",
      "\u001b[1m157/157\u001b[0m \u001b[32m━━━━━━━━━━━━━━━━━━━━\u001b[0m\u001b[37m\u001b[0m \u001b[1m0s\u001b[0m 435us/step - accuracy: 0.9997 - loss: 0.0039 - val_accuracy: 0.9932 - val_loss: 0.0213\n",
      "Epoch 185/200\n",
      "\u001b[1m157/157\u001b[0m \u001b[32m━━━━━━━━━━━━━━━━━━━━\u001b[0m\u001b[37m\u001b[0m \u001b[1m0s\u001b[0m 436us/step - accuracy: 0.9997 - loss: 0.0038 - val_accuracy: 0.9936 - val_loss: 0.0200\n",
      "Epoch 186/200\n",
      "\u001b[1m157/157\u001b[0m \u001b[32m━━━━━━━━━━━━━━━━━━━━\u001b[0m\u001b[37m\u001b[0m \u001b[1m0s\u001b[0m 431us/step - accuracy: 0.9997 - loss: 0.0038 - val_accuracy: 0.9930 - val_loss: 0.0215\n",
      "Epoch 187/200\n",
      "\u001b[1m157/157\u001b[0m \u001b[32m━━━━━━━━━━━━━━━━━━━━\u001b[0m\u001b[37m\u001b[0m \u001b[1m0s\u001b[0m 430us/step - accuracy: 0.9997 - loss: 0.0035 - val_accuracy: 0.9938 - val_loss: 0.0191\n",
      "Epoch 188/200\n",
      "\u001b[1m157/157\u001b[0m \u001b[32m━━━━━━━━━━━━━━━━━━━━\u001b[0m\u001b[37m\u001b[0m \u001b[1m0s\u001b[0m 461us/step - accuracy: 0.9998 - loss: 0.0036 - val_accuracy: 0.9926 - val_loss: 0.0225\n",
      "Epoch 189/200\n",
      "\u001b[1m157/157\u001b[0m \u001b[32m━━━━━━━━━━━━━━━━━━━━\u001b[0m\u001b[37m\u001b[0m \u001b[1m0s\u001b[0m 438us/step - accuracy: 0.9998 - loss: 0.0035 - val_accuracy: 0.9942 - val_loss: 0.0189\n",
      "Epoch 190/200\n",
      "\u001b[1m157/157\u001b[0m \u001b[32m━━━━━━━━━━━━━━━━━━━━\u001b[0m\u001b[37m\u001b[0m \u001b[1m0s\u001b[0m 434us/step - accuracy: 0.9998 - loss: 0.0032 - val_accuracy: 0.9936 - val_loss: 0.0196\n",
      "Epoch 191/200\n",
      "\u001b[1m157/157\u001b[0m \u001b[32m━━━━━━━━━━━━━━━━━━━━\u001b[0m\u001b[37m\u001b[0m \u001b[1m0s\u001b[0m 664us/step - accuracy: 0.9998 - loss: 0.0033 - val_accuracy: 0.9932 - val_loss: 0.0206\n",
      "Epoch 192/200\n",
      "\u001b[1m157/157\u001b[0m \u001b[32m━━━━━━━━━━━━━━━━━━━━\u001b[0m\u001b[37m\u001b[0m \u001b[1m0s\u001b[0m 486us/step - accuracy: 0.9997 - loss: 0.0034 - val_accuracy: 0.9924 - val_loss: 0.0227\n",
      "Epoch 193/200\n",
      "\u001b[1m157/157\u001b[0m \u001b[32m━━━━━━━━━━━━━━━━━━━━\u001b[0m\u001b[37m\u001b[0m \u001b[1m0s\u001b[0m 501us/step - accuracy: 0.9998 - loss: 0.0033 - val_accuracy: 0.9920 - val_loss: 0.0225\n",
      "Epoch 194/200\n",
      "\u001b[1m157/157\u001b[0m \u001b[32m━━━━━━━━━━━━━━━━━━━━\u001b[0m\u001b[37m\u001b[0m \u001b[1m0s\u001b[0m 488us/step - accuracy: 0.9996 - loss: 0.0036 - val_accuracy: 0.9944 - val_loss: 0.0182\n",
      "Epoch 195/200\n",
      "\u001b[1m157/157\u001b[0m \u001b[32m━━━━━━━━━━━━━━━━━━━━\u001b[0m\u001b[37m\u001b[0m \u001b[1m0s\u001b[0m 458us/step - accuracy: 0.9998 - loss: 0.0032 - val_accuracy: 0.9932 - val_loss: 0.0208\n",
      "Epoch 196/200\n",
      "\u001b[1m157/157\u001b[0m \u001b[32m━━━━━━━━━━━━━━━━━━━━\u001b[0m\u001b[37m\u001b[0m \u001b[1m0s\u001b[0m 473us/step - accuracy: 0.9998 - loss: 0.0033 - val_accuracy: 0.9936 - val_loss: 0.0200\n",
      "Epoch 197/200\n",
      "\u001b[1m157/157\u001b[0m \u001b[32m━━━━━━━━━━━━━━━━━━━━\u001b[0m\u001b[37m\u001b[0m \u001b[1m0s\u001b[0m 477us/step - accuracy: 0.9997 - loss: 0.0034 - val_accuracy: 0.9922 - val_loss: 0.0226\n",
      "Epoch 198/200\n",
      "\u001b[1m157/157\u001b[0m \u001b[32m━━━━━━━━━━━━━━━━━━━━\u001b[0m\u001b[37m\u001b[0m \u001b[1m0s\u001b[0m 444us/step - accuracy: 0.9997 - loss: 0.0031 - val_accuracy: 0.9942 - val_loss: 0.0183\n",
      "Epoch 199/200\n",
      "\u001b[1m157/157\u001b[0m \u001b[32m━━━━━━━━━━━━━━━━━━━━\u001b[0m\u001b[37m\u001b[0m \u001b[1m0s\u001b[0m 650us/step - accuracy: 0.9998 - loss: 0.0031 - val_accuracy: 0.9918 - val_loss: 0.0236\n",
      "Epoch 200/200\n",
      "\u001b[1m157/157\u001b[0m \u001b[32m━━━━━━━━━━━━━━━━━━━━\u001b[0m\u001b[37m\u001b[0m \u001b[1m0s\u001b[0m 435us/step - accuracy: 0.9998 - loss: 0.0030 - val_accuracy: 0.9922 - val_loss: 0.0231\n"
     ]
    }
   ],
   "source": [
    "train = model.fit(energy_train, label_train, batch_size=256, epochs=200, validation_data=(energy_val,label_val))"
   ]
  },
  {
   "cell_type": "code",
   "execution_count": 1335,
   "metadata": {},
   "outputs": [
    {
     "data": {
      "image/png": "[encoded data removed]",
      "text/plain": [
       "<Figure size 640x480 with 1 Axes>"
      ]
     },
     "metadata": {},
     "output_type": "display_data"
    }
   ],
   "source": [
    "plt.plot(train.epoch, train.history[\"loss\"], label=\"training\")\n",
    "plt.plot(train.epoch, train.history[\"val_loss\"], label=\"validation\")\n",
    "plt.legend()\n",
    "plt.xlabel(\"Epoch\")\n",
    "plt.ylabel(\"Loss\")\n",
    "plt.yscale(\"log\")"
   ]
  },
  {
   "cell_type": "code",
   "execution_count": 1336,
   "metadata": {},
   "outputs": [
    {
     "data": {
      "text/plain": [
       "Text(0, 0.5, 'Accuracy')"
      ]
     },
     "execution_count": 1336,
     "metadata": {},
     "output_type": "execute_result"
    },
    {
     "data": {
      "image/png": "[encoded data removed]",
      "text/plain": [
       "<Figure size 640x480 with 1 Axes>"
      ]
     },
     "metadata": {},
     "output_type": "display_data"
    }
   ],
   "source": [
    "plt.plot(train.epoch, train.history[\"accuracy\"], label=\"training\")\n",
    "plt.plot(train.epoch, train.history[\"val_accuracy\"], label=\"validation\")\n",
    "plt.legend()\n",
    "plt.xlabel(\"Epoch\")\n",
    "plt.ylabel(\"Accuracy\")\n",
    "#plt.yscale(\"log\")\n",
    "#plt.xlim(3,100)\n",
    "#plt.ylim(0.96,1)"
   ]
  },
  {
   "cell_type": "code",
   "execution_count": 1337,
   "metadata": {},
   "outputs": [
    {
     "name": "stdout",
     "output_type": "stream",
     "text": [
      "Evaluate on test data\n",
      "\u001b[1m278/278\u001b[0m \u001b[32m━━━━━━━━━━━━━━━━━━━━\u001b[0m\u001b[37m\u001b[0m \u001b[1m0s\u001b[0m 307us/step - accuracy: 0.9971 - loss: 0.0144\n"
     ]
    }
   ],
   "source": [
    "print(\"Evaluate on test data\")\n",
    "test = model.evaluate(energy_test, label_test, batch_size=256)"
   ]
  },
  {
   "cell_type": "code",
   "execution_count": 1338,
   "metadata": {},
   "outputs": [
    {
     "name": "stdout",
     "output_type": "stream",
     "text": [
      "Generate predictions for  3  samples (Z)\n",
      "\u001b[1m1/1\u001b[0m \u001b[32m━━━━━━━━━━━━━━━━━━━━\u001b[0m\u001b[37m\u001b[0m \u001b[1m0s\u001b[0m 26ms/step\n",
      "Predictions =  [0.0000000e+00 0.0000000e+00 1.5443143e-26 1.9409603e-27 1.0000000e+00]\n",
      "Label =  4.0\n",
      "Predictions =  [6.0220934e-32 2.2669155e-29 6.1309473e-16 4.6970249e-06 9.9999535e-01]\n",
      "Label =  4.0\n",
      "Predictions =  [0.0000000e+00 0.0000000e+00 2.3155404e-27 1.3448390e-26 1.0000000e+00]\n",
      "Label =  4.0\n"
     ]
    }
   ],
   "source": [
    "samples = 3\n",
    "print(\"Generate predictions for \",samples,\" samples (Z)\")\n",
    "predictions = model.predict(energy_test[:samples])\n",
    "\n",
    "for i in range(samples):\n",
    "    print(\"Predictions = \", predictions[i])\n",
    "    print(\"Label = \", label_test[i])\n"
   ]
  },
  {
   "cell_type": "code",
   "execution_count": null,
   "metadata": {},
   "outputs": [],
   "source": []
  }
 ],
 "metadata": {
  "kernelspec": {
   "display_name": "base",
   "language": "python",
   "name": "python3"
  },
  "language_info": {
   "codemirror_mode": {
    "name": "ipython",
    "version": 3
   },
   "file_extension": ".py",
   "mimetype": "text/x-python",
   "name": "python",
   "nbconvert_exporter": "python",
   "pygments_lexer": "ipython3",
   "version": "3.12.5"
  }
 },
 "nbformat": 4,
 "nbformat_minor": 2
}
